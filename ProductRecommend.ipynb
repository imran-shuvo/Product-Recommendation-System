{
  "cells": [
    {
      "cell_type": "code",
      "execution_count": null,
      "metadata": {
        "id": "CLVyXdnjN2zH"
      },
      "outputs": [],
      "source": [
        "# importing libraries\n",
        "import pandas as pd\n",
        "from sklearn.metrics.pairwise import linear_kernel\n",
        "from sklearn.feature_extraction.text import TfidfVectorizer"
      ]
    },
    {
      "cell_type": "code",
      "execution_count": null,
      "metadata": {
        "colab": {
          "base_uri": "https://localhost:8080/",
          "height": 206
        },
        "id": "aoLnzqCjN7o8",
        "outputId": "f2b77703-b691-41c3-dbde-aa8b850b9956"
      },
      "outputs": [
        {
          "data": {
            "text/html": [
              "<div>\n",
              "<style scoped>\n",
              "    .dataframe tbody tr th:only-of-type {\n",
              "        vertical-align: middle;\n",
              "    }\n",
              "\n",
              "    .dataframe tbody tr th {\n",
              "        vertical-align: top;\n",
              "    }\n",
              "\n",
              "    .dataframe thead th {\n",
              "        text-align: right;\n",
              "    }\n",
              "</style>\n",
              "<table border=\"1\" class=\"dataframe\">\n",
              "  <thead>\n",
              "    <tr style=\"text-align: right;\">\n",
              "      <th></th>\n",
              "      <th>item_id</th>\n",
              "      <th>name</th>\n",
              "      <th>description</th>\n",
              "    </tr>\n",
              "  </thead>\n",
              "  <tbody>\n",
              "    <tr>\n",
              "      <th>0</th>\n",
              "      <td>100</td>\n",
              "      <td>Elegant Terracotta Necklace Jewellery</td>\n",
              "      <td>The traditional and Elegant Golden Black Terra...</td>\n",
              "    </tr>\n",
              "    <tr>\n",
              "      <th>1</th>\n",
              "      <td>101</td>\n",
              "      <td>Traditional Terracotta Necklace</td>\n",
              "      <td>This Traditional Golden Brown Terracotta Neckl...</td>\n",
              "    </tr>\n",
              "    <tr>\n",
              "      <th>2</th>\n",
              "      <td>102</td>\n",
              "      <td>Elegant Terracotta Necklace</td>\n",
              "      <td>Elegant Golden Blue Terracotta Necklace Set in...</td>\n",
              "    </tr>\n",
              "    <tr>\n",
              "      <th>3</th>\n",
              "      <td>103</td>\n",
              "      <td>Blue Designer Terracotta Necklace</td>\n",
              "      <td>You can never go wrong with this Trendy Blue G...</td>\n",
              "    </tr>\n",
              "    <tr>\n",
              "      <th>4</th>\n",
              "      <td>104</td>\n",
              "      <td>Bird Terracotta Necklace</td>\n",
              "      <td>The magnificent organic terracotta necklace se...</td>\n",
              "    </tr>\n",
              "  </tbody>\n",
              "</table>\n",
              "</div>"
            ],
            "text/plain": [
              "   item_id  ...                                        description\n",
              "0      100  ...  The traditional and Elegant Golden Black Terra...\n",
              "1      101  ...  This Traditional Golden Brown Terracotta Neckl...\n",
              "2      102  ...  Elegant Golden Blue Terracotta Necklace Set in...\n",
              "3      103  ...  You can never go wrong with this Trendy Blue G...\n",
              "4      104  ...  The magnificent organic terracotta necklace se...\n",
              "\n",
              "[5 rows x 3 columns]"
            ]
          },
          "execution_count": 10,
          "metadata": {
            "tags": []
          },
          "output_type": "execute_result"
        }
      ],
      "source": [
        "# reading file\n",
        "product_description = pd.read_csv('description.csv', encoding = 'latin-1')\n",
        "product_description.head()\n"
      ]
    },
    {
      "cell_type": "code",
      "execution_count": null,
      "metadata": {
        "id": "uQHiUaYJOByT"
      },
      "outputs": [],
      "source": [
        "products_tfidf = TfidfVectorizer(stop_words='english')"
      ]
    },
    {
      "cell_type": "code",
      "execution_count": null,
      "metadata": {
        "id": "xPY1IRFSObY2"
      },
      "outputs": [],
      "source": [
        "# replace NaN with empty strings\n",
        "product_description['description'] = product_description['description'].fillna('')"
      ]
    },
    {
      "cell_type": "code",
      "execution_count": null,
      "metadata": {
        "id": "O9vJsjvzOdMa"
      },
      "outputs": [],
      "source": [
        "# computing TF-IDF matrix required for calculating cosine similarity\n",
        "product_description_matrix = products_tfidf.fit_transform(product_description['description'])"
      ]
    },
    {
      "cell_type": "code",
      "execution_count": null,
      "metadata": {
        "id": "o22IPp0-OoFf"
      },
      "outputs": [],
      "source": [
        "cosine_similarity = linear_kernel(product_description_matrix, product_description_matrix)"
      ]
    },
    {
      "cell_type": "code",
      "execution_count": null,
      "metadata": {
        "colab": {
          "base_uri": "https://localhost:8080/",
          "height": 201
        },
        "id": "qctJabJLO0NB",
        "outputId": "b3a6eed7-a915-4b6a-a4dd-c6ec52517103"
      },
      "outputs": [
        {
          "name": "stdout",
          "output_type": "stream",
          "text": [
            "100\n",
            "[76, 3, 77]\n",
            "76          Elegant Terracotta Necklace\n",
            "3     Blue Designer Terracotta Necklace\n",
            "77    Blue Designer Terracotta Necklace\n",
            "Name: name, dtype: object\n",
            "76    176\n",
            "3     103\n",
            "77    177\n",
            "Name: item_id, dtype: int64\n"
          ]
        }
      ],
      "source": [
        "# Get the pairwsie similarity scores of all books compared to the book passed by index, sorting them and getting top 5\n",
        "# here 2 is the index of the book in dataset\n",
        "x = product_description['item_id']\n",
        "t=0\n",
        "item_id = input()\n",
        "for i in range(174):\n",
        "    if(x[i]==102):\n",
        "      t = i\n",
        "similarity_scores = list(enumerate(cosine_similarity[t]))\n",
        "\n",
        "\n",
        "similarity_scores = sorted(similarity_scores, key=lambda x: x[1], reverse=True)\n",
        "\n",
        "\n",
        "similarity_scores = similarity_scores[1:4]\n",
        "\n",
        "\n",
        "# Get the similar books index\n",
        "products_index = [i[0] for i in similarity_scores]\n",
        "print(products_index)\n",
        "\n",
        "\n",
        "# printing the top 5 most similar books using integer-location based indexing (iloc)\n",
        "print (product_description['name'].iloc[products_index])\n",
        "print (product_description['item_id'].iloc[products_index])\n"
      ]
    },
    {
      "cell_type": "code",
      "execution_count": null,
      "metadata": {
        "id": "_J_oR7lTO1Lq"
      },
      "outputs": [],
      "source": [
        "i=0\n",
        "for i in range(174):\n",
        "    if(x[i]==102):\n",
        "      t = i"
      ]
    },
    {
      "cell_type": "code",
      "execution_count": null,
      "metadata": {
        "colab": {
          "base_uri": "https://localhost:8080/",
          "height": 35
        },
        "id": "4NH4_SgrXcMs",
        "outputId": "a48f5d31-434d-4f9f-97d9-8eb973358a8a"
      },
      "outputs": [
        {
          "name": "stdout",
          "output_type": "stream",
          "text": [
            "2\n"
          ]
        }
      ],
      "source": [
        "print(t)"
      ]
    },
    {
      "cell_type": "code",
      "execution_count": null,
      "metadata": {
        "id": "kn0YE7siYjZC"
      },
      "outputs": [],
      "source": [
        "def recommend(item_id):\n",
        "  import pandas as pd\n",
        "  from sklearn.metrics.pairwise import linear_kernel\n",
        "  from sklearn.feature_extraction.text import TfidfVectorizer\n",
        "  product_description = pd.read_csv('description.csv', encoding = 'latin-1')\n",
        "  products_tfidf = TfidfVectorizer(stop_words='english')\n",
        "  product_description['description'] = product_description['description'].fillna('')\n",
        "  product_description_matrix = products_tfidf.fit_transform(product_description['description'])\n",
        "  cosine_similarity = linear_kernel(product_description_matrix, product_description_matrix)\n",
        "  x = product_description['item_id']\n",
        "  i=0\n",
        "  for i in range(174):\n",
        "    if(x[i]==item_id):\n",
        "      t = i\n",
        "  similarity_scores = list(enumerate(cosine_similarity[t]))\n",
        "  similarity_scores = sorted(similarity_scores, key=lambda x: x[1], reverse=True)\n",
        "  similarity_scores = similarity_scores[1:4]\n",
        "  products_index = [i[0] for i in similarity_scores]\n",
        "  print (product_description['name'].iloc[products_index])\n",
        "  print (product_description['item_id'].iloc[products_index])\n",
        "  "
      ]
    },
    {
      "cell_type": "code",
      "execution_count": null,
      "metadata": {
        "colab": {
          "base_uri": "https://localhost:8080/",
          "height": 164
        },
        "id": "z60-V9uTajiL",
        "outputId": "22f97035-a607-416f-d940-27d05c2e45a0"
      },
      "outputs": [
        {
          "name": "stdout",
          "output_type": "stream",
          "text": [
            "74    Elegant Terracotta Necklace Jewellery\n",
            "3         Blue Designer Terracotta Necklace\n",
            "77        Blue Designer Terracotta Necklace\n",
            "Name: name, dtype: object\n",
            "74    174\n",
            "3     103\n",
            "77    177\n",
            "Name: item_id, dtype: int64\n"
          ]
        }
      ],
      "source": [
        "recommend(100)"
      ]
    },
    {
      "cell_type": "code",
      "execution_count": null,
      "metadata": {
        "id": "P35SGmnbanqN"
      },
      "outputs": [],
      "source": []
    }
  ],
  "metadata": {
    "colab": {
      "collapsed_sections": [],
      "name": "Untitled0.ipynb",
      "provenance": []
    },
    "kernelspec": {
      "display_name": "Python 3",
      "name": "python3"
    },
    "language_info": {
      "name": "python",
      "version": "3.10.1"
    }
  },
  "nbformat": 4,
  "nbformat_minor": 0
}
